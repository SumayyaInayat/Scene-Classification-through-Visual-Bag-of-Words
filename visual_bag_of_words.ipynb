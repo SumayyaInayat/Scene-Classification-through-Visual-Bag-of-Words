{
  "cells": [
    {
      "cell_type": "markdown",
      "metadata": {
        "id": "6z9N7Fx7gT0n"
      },
      "source": [
        "# Assignment 3"
      ]
    },
    {
      "cell_type": "code",
      "execution_count": 1,
      "metadata": {
        "id": "BPEvWwsvgT0t",
        "colab": {
          "base_uri": "https://localhost:8080/"
        },
        "outputId": "b65c57ce-a25f-4509-941b-cf81a54fbd0a"
      },
      "outputs": [
        {
          "output_type": "stream",
          "name": "stdout",
          "text": [
            "\u001b[33mWARNING: Skipping opencv as it is not installed.\u001b[0m\n",
            "Requirement already satisfied: opencv-contrib-python in /usr/local/lib/python3.7/dist-packages (4.1.2.30)\n",
            "Collecting opencv-contrib-python\n",
            "  Downloading opencv_contrib_python-4.5.4.60-cp37-cp37m-manylinux_2_17_x86_64.manylinux2014_x86_64.whl (66.5 MB)\n",
            "\u001b[K     |████████████████████████████████| 66.5 MB 121 kB/s \n",
            "\u001b[?25hRequirement already satisfied: numpy>=1.14.5 in /usr/local/lib/python3.7/dist-packages (from opencv-contrib-python) (1.19.5)\n",
            "Installing collected packages: opencv-contrib-python\n",
            "  Attempting uninstall: opencv-contrib-python\n",
            "    Found existing installation: opencv-contrib-python 4.1.2.30\n",
            "    Uninstalling opencv-contrib-python-4.1.2.30:\n",
            "      Successfully uninstalled opencv-contrib-python-4.1.2.30\n",
            "Successfully installed opencv-contrib-python-4.5.4.60\n"
          ]
        }
      ],
      "source": [
        "import os\n",
        "import glob\n",
        "\n",
        "import pickle\n",
        "\n",
        "import numpy as np\n",
        "import pandas as pd\n",
        "import random\n",
        "from PIL import Image\n",
        "\n",
        "import matplotlib.pyplot as plt \n",
        "\n",
        "from sklearn.metrics import accuracy_score\n",
        "from sklearn.metrics import confusion_matrix\n",
        "from sklearn.utils.multiclass import unique_labels\n",
        "from sklearn import svm\n",
        "from sklearn.cluster import KMeans\n",
        "\n",
        "!pip uninstall opencv\n",
        "!pip install -U opencv-contrib-python\n",
        "import cv2 as cv"
      ]
    },
    {
      "cell_type": "code",
      "source": [
        "from google.colab import drive\n",
        "drive.mount('/content/drive')"
      ],
      "metadata": {
        "colab": {
          "base_uri": "https://localhost:8080/"
        },
        "id": "PNMRZMURiFcn",
        "outputId": "eeb6eed5-4599-4504-c048-e2b3f2dc783a"
      },
      "execution_count": 2,
      "outputs": [
        {
          "output_type": "stream",
          "name": "stdout",
          "text": [
            "Mounted at /content/drive\n"
          ]
        }
      ]
    },
    {
      "cell_type": "code",
      "execution_count": null,
      "metadata": {
        "colab": {
          "base_uri": "https://localhost:8080/"
        },
        "id": "FyCzio8PgT0w",
        "outputId": "a86c4bb2-58d6-45c5-ab9e-82a1469d0175"
      },
      "outputs": [
        {
          "output_type": "stream",
          "name": "stdout",
          "text": [
            "4.5.4\n"
          ]
        }
      ],
      "source": [
        "print(cv.__version__)"
      ]
    },
    {
      "cell_type": "markdown",
      "metadata": {
        "id": "PVqjqb9tgT0z"
      },
      "source": [
        "# get bags of SIFT"
      ]
    },
    {
      "cell_type": "code",
      "source": [
        "def save(mat, title):\n",
        "  write_file = open(title, \"wb\")\n",
        "  pickle.dump(mat, write_file)\n",
        "  write_file.close()\n",
        "\n",
        "def load(filename):\n",
        "  with open(filename,'rb') as file:\n",
        "    mat = pickle.load(file)\n",
        "    print('size of vocab: ',len(mat))\n",
        "  return mat\n"
      ],
      "metadata": {
        "id": "LSvXWce9uiY5"
      },
      "execution_count": 11,
      "outputs": []
    },
    {
      "cell_type": "code",
      "source": [
        "def const_hist(des,centers):\n",
        "  hist = np.zeros((len(centers)))\n",
        "  for d in des:\n",
        "    dist =  100000000\n",
        "    loc = 0\n",
        "    for i in range(len(centers)):\n",
        "      eucDist = np.sqrt(np.sum((centers[i]-d)**2))\n",
        "      if eucDist < dist:\n",
        "        dist = eucDist\n",
        "        loc = i \n",
        "    hist[loc]+=1\n",
        "\n",
        "  return hist "
      ],
      "metadata": {
        "id": "h7AGwpZBS9SZ"
      },
      "execution_count": 216,
      "outputs": []
    },
    {
      "cell_type": "code",
      "execution_count": 217,
      "metadata": {
        "id": "bTPlIUY_gT00"
      },
      "outputs": [],
      "source": [
        "# Starter code tranlated from James Hays's code for Computer Vision Fall 2019\n",
        "\n",
        "#This feature representation is described in the handout, lecture\n",
        "#materials, and Szeliski chapter 14.\n",
        "\n",
        "def get_bags_of_sifts(image_paths):\n",
        "  vocab = load('/content/vocab.pkl')\n",
        "  r,c = vocab.shape\n",
        "  img_features = np.zeros((len(image_paths),r))\n",
        "  counter = 0\n",
        "  sift = cv.xfeatures2d.SIFT_create(250) #specify how many maximum descriptors you want in the output \n",
        "    \n",
        "  for img_p in image_paths:\n",
        "    im = Image.open(img_p)\n",
        "    col, row = im.size\n",
        "    im.thumbnail(((col/3)*2,(row/3)*2), Image.ANTIALIAS) \n",
        "    img = np.array(im)\n",
        "    kp, des = sift.detectAndCompute(img, None)\n",
        "    if des is not None:\n",
        "      #take a sample of the descriptors\n",
        "      #samp_des = np.array(random.sample(list(des),int(np.ceil(len(des)/3))))\n",
        "      samp_des = des\n",
        "      #make histogram of image\n",
        "      hist = const_hist(samp_des, vocab) \n",
        "      #normalize\n",
        "      normalized = (hist- hist.min())/(hist.max() - hist.min())\n",
        "      img_features[counter:counter+1] = normalized\n",
        "      counter+=1\n",
        "  \n",
        "  return img_features\n",
        "\n",
        "# image_paths is an N x 1 cell array of strings where each string is an\n",
        "# image path on the file system.\n",
        "\n",
        "# This function assumes that 'vocab.pkl' exists and contains an N x 128\n",
        "# matrix 'vocab' where each row is a kmeans centroid or visual word. This\n",
        "# matrix is saved to disk rather than passed in a parameter to avoid\n",
        "# recomputing the vocabulary in every run.\n",
        "\n",
        "# image_feats is an N x d matrix, where d is the dimensionality of the\n",
        "# feature representation. In this case, d will equal the number of clusters\n",
        "# or equivalently the number of entries in each image's histogram\n",
        "# ('vocab_size') below.\n",
        "\n",
        "# You will want to construct SIFT features here in the same way you\n",
        "# did in build_vocabulary function (except for possibly changing the sampling\n",
        "# rate) and then assign each local feature to its nearest cluster center\n",
        "# and build a histogram indicating how many times each cluster was used.\n",
        "# Don't forget to normalize the histogram, or else a larger image with more\n",
        "# SIFT features will look very different from a smaller version of the same\n",
        "# image.\n",
        "\n",
        "#  SIFT_features is a 128 x N matrix of SIFT features\n",
        "#   note: there are smoothing parameters you can manipulate for sift function\n",
        "\n",
        "\n",
        "\n"
      ]
    },
    {
      "cell_type": "markdown",
      "metadata": {
        "id": "Vri0u_lggT02"
      },
      "source": [
        "# Build Vocabulary "
      ]
    },
    {
      "cell_type": "code",
      "execution_count": 142,
      "metadata": {
        "id": "Rr5tqxhEgT03"
      },
      "outputs": [],
      "source": [
        "# Starter code tranlated from James Hays's code for Computer Vision Fall 2019\n",
        "\n",
        "#This function will sample SIFT descriptors from the training images,\n",
        "#cluster them with kmeans, and then return the cluster centers.\n",
        "\n",
        "def build_vocabulary(image_paths, vocab_size):\n",
        "  all_desc = []\n",
        "  sift = cv.xfeatures2d.SIFT_create(50) #specify how many maximum descriptors you want in the output \n",
        "  none_img = 0\n",
        "    \n",
        "  for img_path in image_paths:\n",
        "    im = Image.open(img_path)\n",
        "    col, row = im.size\n",
        "    im.thumbnail((np.rint((col/3)*2),np.rint((row/3)*2)), Image.ANTIALIAS) \n",
        "    img = np.array(im)\n",
        "    kp, des = sift.detectAndCompute(img, None)\n",
        "    if des is None:\n",
        "      print(img_path, '  has None descriptor')\n",
        "      none_img+=1\n",
        "    else:\n",
        "      #take a sample of the descriptors\n",
        "      #samp_des = np.array(random.sample(list(des),int(np.ceil(len(des)/4))))\n",
        "      samp_des = des\n",
        "      all_desc.extend(samp_des)\n",
        "\n",
        "  kmeans = KMeans(n_clusters = vocab_size)\n",
        "  kmeans.fit(np.array(all_desc))\n",
        "  vocab = kmeans.cluster_centers_\n",
        "\n",
        "  #save file using  pickle\n",
        "  save(vocab,'vocab.pkl')\n",
        "  print('vocabilary succefully build /n',none_img,' image with none descriptors  discovered')\n",
        "  return vocab\n",
        "# The inputs are 'image_paths', a N x 1 cell array of image paths, and\n",
        "# 'vocab_size' the size of the vocabulary.\n",
        "\n",
        "# The output 'vocab' should be vocab_size x 128. Each row is a cluster\n",
        "# centroid / visual word.\n",
        "\n",
        "\n",
        "# Load images from the training set. To save computation time, you don't\n",
        "# necessarily need to sample from all images, although it would be better\n",
        "# to do so. You can randomly sample the descriptors from each image to save\n",
        "# memory and speed up the clustering. \n",
        "\n",
        "# For each loaded image, get some SIFT features. You don't have to get as\n",
        "# many SIFT features as you will in get_bags_of_sift, because you're only\n",
        "# trying to get a representative sample here.\n",
        "\n",
        "# Once you have tens of thousands of SIFT features from many training\n",
        "# images, cluster them with kmeans. The resulting centroids are now your\n",
        "# visual word vocabulary.\n",
        "\n"
      ]
    },
    {
      "cell_type": "markdown",
      "metadata": {
        "id": "UOH4_nmxgT05"
      },
      "source": [
        "# get image paths"
      ]
    },
    {
      "cell_type": "markdown",
      "metadata": {
        "id": "ZF3d6By5gT08"
      },
      "source": [
        "# Nearest Neighbor Classifier"
      ]
    },
    {
      "cell_type": "code",
      "execution_count": 21,
      "metadata": {
        "id": "Unnh8tQBgT09"
      },
      "outputs": [],
      "source": [
        "# Starter code tranlated from James Hays's code for Computer Vision Fall 2019\n",
        "\n",
        "#This function will predict the category for every test image by finding\n",
        "#the training image with most similar features. Instead of 1 nearest\n",
        "#neighbor, you can vote based on k nearest neighbors which will increase\n",
        "#performance (although you need to pick a reasonable value for k).\n",
        "\n",
        "def nearest_neighbor_classify(train_image_feats, train_labels, test_image_feats):\n",
        "  pred_cat = []\n",
        "  k = 15\n",
        "  for te_img_feat in test_image_feats:\n",
        "    dist_vec = []\n",
        "    #1: calculate distance between train and test point\n",
        "    for tr_img_feat in train_image_feats:\n",
        "      dist = np.sqrt(np.sum((te_img_feat - tr_img_feat)**2))#.........euclidean\n",
        "      #dist = np.sum(tr_img_feat - te_img_feat)             #manhatten\n",
        "      dist_vec.append(dist)\n",
        "    \n",
        "    #2:sort the dict_vec to get k nearest neighbours\n",
        "    sorted_list = np.argsort(dist_vec)\n",
        "    near_nei = sorted_list[:k]\n",
        "\n",
        "    #3:majority voting\n",
        "    classes = {}\n",
        "    for n in near_nei:\n",
        "      if train_labels[n] in list(classes):\n",
        "        classes[train_labels[n]]+=1\n",
        "      else:\n",
        "        classes[train_labels[n]] = 1\n",
        "    \n",
        "    max = 0\n",
        "    for key in list(classes):\n",
        "      if max < classes[key]:\n",
        "        max = classes[key]\n",
        "        label = key\n",
        "\n",
        "    #add label into the predicted categories\n",
        "    pred_cat.append(label)\n",
        "    \n",
        "  return np.array(pred_cat)\n",
        "# image_feats is an N x d matrix, where d is the dimensionality of the\n",
        "#  feature representation.\n",
        "# train_labels is an N x 1 cell array, where each entry is a string\n",
        "#  indicating the ground truth category for each training image.\n",
        "# test_image_feats is an M x d matrix, where d is the dimensionality of the\n",
        "#  feature representation. You can assume M = N unless you've modified the\n",
        "#  starter code.\n",
        "# predicted_categories is an M x 1 cell array, where each entry is a string\n",
        "#  indicating the predicted category for each test image."
      ]
    },
    {
      "cell_type": "markdown",
      "metadata": {
        "id": "W5BPMAN-gT0-"
      },
      "source": [
        "# SVM Classifier"
      ]
    },
    {
      "cell_type": "code",
      "execution_count": 36,
      "metadata": {
        "id": "vWQdLQL_gT0_"
      },
      "outputs": [],
      "source": [
        "# Starter code tranlated from James Hays's code for Computer Vision Fall 2019\n",
        "\n",
        "#This function will train a linear SVM for every category (i.e. one vs all)\n",
        "#and then use the learned linear classifiers to predict the category of\n",
        "#every test image. Every test feature will be evaluated with all 15 SVMs\n",
        "#and the most confident SVM will \"win\". Confidence, or distance from the\n",
        "#margin, is W*X + B where '*' is the inner product or dot product and W and\n",
        "#B are the learned hyperplane parameters.\n",
        "\n",
        "def svm_classify(train_image_feats, train_labels, test_image_feats):\n",
        "    \n",
        "    #make an SVM classifier\n",
        "    clf = svm.LinearSVC()\n",
        "    #clf = svm.LinearSVC(random_state=2, tol=1e-07)\n",
        "\n",
        "    #fit on the training data\n",
        "    #you need to put your own array names here\n",
        "    clf.fit(train_image_feats, list(train_labels))\n",
        "    pred_cat = clf.predict(test_image_feats)\n",
        "    return np.array(pred_cat)\n",
        "# image_feats is an N x d matrix, where d is the dimensionality of the\n",
        "#  feature representation.\n",
        "# train_labels is an N x 1 cell array, where each entry is a string\n",
        "#  indicating the ground truth category for each training image.\n",
        "# test_image_feats is an M x d matrix, where d is the dimensionality of the\n",
        "#  feature representation. You can assume M = N unless you've modified the\n",
        "#  starter code.\n",
        "# predicted_categories is an M x 1 cell array, where each entry is a string\n",
        "#  indicating the predicted category for each test image.\n"
      ]
    },
    {
      "cell_type": "markdown",
      "metadata": {
        "id": "SqxsLzRAgT1A"
      },
      "source": [
        "# Display results"
      ]
    },
    {
      "cell_type": "code",
      "execution_count": 5,
      "metadata": {
        "id": "rwbSWnD0gT1B"
      },
      "outputs": [],
      "source": [
        "def plot_confusion_matrix(y_true, y_pred, classes, normalize=False, title=None, cmap=plt.cm.Blues):\n",
        "    \"\"\"\n",
        "    This function prints and plots the confusion matrix.\n",
        "    Normalization can be applied by setting `normalize=True`.\n",
        "    \"\"\"\n",
        "    if not title:\n",
        "        if normalize:\n",
        "            title = 'Normalized confusion matrix'\n",
        "        else:\n",
        "            title = 'Confusion matrix, without normalization'\n",
        "\n",
        "    # Compute confusion matrix\n",
        "    cm = confusion_matrix(y_true, y_pred)\n",
        "    # Only use the labels that appear in the data\n",
        "    classes = classes[unique_labels(y_true, y_pred)]\n",
        "    if normalize:\n",
        "        cm = cm.astype('float') / cm.sum(axis=1)[:, np.newaxis]\n",
        "        print(\"Normalized confusion matrix\")\n",
        "    else:\n",
        "        print('Confusion matrix, without normalization')\n",
        "\n",
        "    #print(cm)\n",
        "\n",
        "    fig, ax = plt.subplots(figsize = (6, 6))\n",
        "    im = ax.imshow(cm, interpolation='nearest', cmap=cmap)\n",
        "    ax.figure.colorbar(im, ax=ax)\n",
        "    # We want to show all ticks...\n",
        "    ax.set(xticks=np.arange(cm.shape[1]),\n",
        "           yticks=np.arange(cm.shape[0]),\n",
        "           # ... and label them with the respective list entries\n",
        "           xticklabels=classes, yticklabels=classes,\n",
        "           title=title,\n",
        "           ylabel='True label',\n",
        "           xlabel='Predicted label')\n",
        "\n",
        "    # Rotate the tick labels and set their alignment.\n",
        "    plt.setp(ax.get_xticklabels(), rotation=45, ha=\"right\",\n",
        "             rotation_mode=\"anchor\")\n",
        "\n",
        "    # Loop over data dimensions and create text annotations.\n",
        "    fmt = '.2f' if normalize else 'd'\n",
        "    thresh = cm.max() / 2.\n",
        "    for i in range(cm.shape[0]):\n",
        "        for j in range(cm.shape[1]):\n",
        "            ax.text(j, i, format(cm[i, j], fmt),\n",
        "                    ha=\"center\", va=\"center\",\n",
        "                    color=\"white\" if cm[i, j] > thresh else \"black\")\n",
        "    fig.tight_layout()\n",
        "    return ax\n",
        "\n",
        "def perf_measure(y_actual, y_hat):\n",
        "    TP, FP, TN, FN = 0, 0, 0, 0\n",
        "    for i in range(len(y_hat)): \n",
        "        if y_actual[i]==y_hat[i]==1:\n",
        "            TP += 1\n",
        "        elif y_hat[i]==1 and y_actual[i]!=y_hat[i]:\n",
        "            FP += 1\n",
        "        elif y_actual[i]==y_hat[i]==0:\n",
        "            TN += 1\n",
        "        elif y_hat[i]==0 and y_actual[i]!=y_hat[i]:\n",
        "            FN += 1\n",
        "\n",
        "    return [TP, FP, TN, FN]\n",
        "\n",
        "\n",
        "def display_results(test_label, categories, predicted_categories, title):\n",
        "    df = pd.DataFrame(columns= ['Category']+list(categories))\n",
        "    \n",
        "    cols = ['Category']+['TP', 'FP', 'TN', 'FN']\n",
        "    df = pd.DataFrame(columns= cols)\n",
        "    \n",
        "    for el in categories:\n",
        "      temp_y_test = (test_label == el).astype(int)\n",
        "      temp_preds = (predicted_categories == el).astype(int)\n",
        "      row = [el]+ perf_measure(temp_y_test, temp_preds)\n",
        "      df = df.append(pd.Series(row, index=cols), ignore_index=True)\n",
        "    print(df, '\\n\\n')\n",
        "\n",
        "    temp_test_labels = test_label\n",
        "\n",
        "    for i in range(len(categories)):\n",
        "        temp_test_labels[temp_test_labels==categories[i]] = i\n",
        "        predicted_categories[predicted_categories==categories[i]] = i\n",
        "    temp_test_labels, predicted_categories = temp_test_labels.astype(int), predicted_categories.astype(int)\n",
        "\n",
        "    class_names=np.array(categories)\n",
        "    plot_confusion_matrix(temp_test_labels, predicted_categories, classes=class_names)\n",
        "    fig = plt.gcf()\n",
        "    fig.savefig(title)\n",
        "    fig.show()\n",
        "    \n",
        "    acc = accuracy_score(y_pred=predicted_categories, y_true=temp_test_labels) #you need to put your own array names here\n",
        "    print('Accuracy: ', acc)\n",
        "    \n",
        "    return"
      ]
    },
    {
      "cell_type": "code",
      "source": [
        "def visualizeCats(test_ids, preds, paths):\n",
        "  TP_dic = {}\n",
        "  FN_dic = {}\n",
        "  FP_dic = {}\n",
        "  for i in range(len(preds)):\n",
        "    #True Positive cases\n",
        "    if test_ids[i] == preds[i]:\n",
        "      #if test_ids[i] not in list(TP_dic):\n",
        "      TP_dic[test_ids[i]] = paths[i]\n",
        "    #False Negative cases\n",
        "    elif test_ids[i] != preds[i]:\n",
        "      if test_ids[i] not in list(FN_dic):\n",
        "        FN_dic[test_ids[i]] = [paths[i],preds[i]]\n",
        "      else:\n",
        "        if preds[i] not in list(FP_dic):\n",
        "          FP_dic[preds[i]] = [paths[i],test_ids[i]]\n",
        "  print('True positive dictionary: ', TP_dic,\n",
        "        '\\n False Positive dictionary: ', FP_dic,\n",
        "        '\\nFalse Negative dictionary: ', FN_dic)      "
      ],
      "metadata": {
        "id": "KI5biaETK8V4"
      },
      "execution_count": 48,
      "outputs": []
    },
    {
      "cell_type": "code",
      "source": [
        ""
      ],
      "metadata": {
        "id": "E-AW-xkh-FQ6"
      },
      "execution_count": null,
      "outputs": []
    },
    {
      "cell_type": "code",
      "execution_count": 8,
      "metadata": {
        "id": "WZokq2UxgT06"
      },
      "outputs": [],
      "source": [
        "# Starter code tranlated from James Hays's code for Computer Vision Fall 2019\n",
        "\n",
        "#This function returns numpy arrays containing the file path for each train\n",
        "#and test image, with their labels \n",
        "\n",
        "def get_image_paths(data_path, categories):\n",
        "    train_image_paths, train_labels = [], []\n",
        "    for cat in categories:\n",
        "        imgs = glob.glob(data_path+'train/'+cat+'/*.*')\n",
        "        train_image_paths = train_image_paths + imgs\n",
        "        train_labels = train_labels + [cat]*len(imgs)\n",
        "\n",
        "    test_image_paths, test_labels = [], []\n",
        "    for cat in os.listdir(data_path+'test/'):\n",
        "        imgs = glob.glob(data_path+'test/'+cat+'/*.*')\n",
        "        test_image_paths = test_image_paths + imgs\n",
        "        test_labels = test_labels + [cat]*len(imgs)\n",
        "\n",
        "    return np.array(train_image_paths), np.array(test_image_paths), np.array(train_labels), np.array(test_labels)  "
      ]
    },
    {
      "cell_type": "code",
      "source": [
        "#This is the list of categories / directories to use. The categories are\n",
        "#somewhat sorted by similarity so that the confusion matrix looks more\n",
        "#structured (indoor and then urban and then rural).\n",
        "data_path = '/content/drive/MyDrive/assignment3.zip (Unzipped Files)/data/'\n",
        "\n",
        "categories = np.array(['Kitchen', 'Store', 'Bedroom', 'LivingRoom', 'Office',\n",
        "              'Industrial', 'Suburb', 'InsideCity', 'TallBuilding', 'Street',\n",
        "              'Highway', 'OpenCountry', 'Coast', 'Mountain', 'Forest'])\n",
        "   \n",
        "# #This list of shortened category names is used later for visualization.\n",
        "# abbr_categories = np.array(['Kit', 'Sto', 'Bed', 'Liv', 'Off', 'Ind', 'Sub',\n",
        "#                    'Cty', 'Bld', 'St', 'HW', 'OC', 'Cst', 'Mnt', 'For'])\n",
        "    \n",
        "\n",
        "#This function returns cell arrays containing the file path for each train\n",
        "#and test image, as well as cell arrays with the label of each train and\n",
        "#test image. By default all four of these arrays will be 1500x1 where each\n",
        "#entry is a char array (or string).\n",
        "print('Getting paths and labels for all train and test data\\n')\n",
        "train_image_paths, test_image_paths, train_labels, test_labels = get_image_paths(data_path, categories)\n",
        "\n",
        "\n",
        "#   train_image_paths  1500x1   cell      \n",
        "#   test_image_paths   705x1    cell           \n",
        "#   train_labels       1500x1   cell         \n",
        "#   test_labels        705x1    cell       "
      ],
      "metadata": {
        "colab": {
          "base_uri": "https://localhost:8080/"
        },
        "id": "30jkPnL9OEpW",
        "outputId": "7a54fcc8-6788-458d-da21-5739ad61cdb0"
      },
      "execution_count": 9,
      "outputs": [
        {
          "output_type": "stream",
          "name": "stdout",
          "text": [
            "Getting paths and labels for all train and test data\n",
            "\n"
          ]
        }
      ]
    },
    {
      "cell_type": "code",
      "execution_count": 266,
      "metadata": {
        "colab": {
          "base_uri": "https://localhost:8080/"
        },
        "id": "w0N8mfomgT1C",
        "outputId": "ca38ea64-2dfb-424b-a2bf-724fb1276ebe"
      },
      "outputs": [
        {
          "output_type": "stream",
          "name": "stdout",
          "text": [
            "Using bag of sift representation for images\n",
            "\n",
            "No existing visual word vocabulary found. Computing one from training images\n",
            "\n",
            "/content/drive/MyDrive/assignment3.zip (Unzipped Files)/data/train/Coast/image_0258.jpg   has None descriptor\n",
            "/content/drive/MyDrive/assignment3.zip (Unzipped Files)/data/train/Coast/image_0283.jpg   has None descriptor\n",
            "vocabilary succefully build /n 2  image with none descriptors  discovered\n",
            "size of vocab:  50\n",
            "size of vocab:  50\n"
          ]
        }
      ],
      "source": [
        "# Starter code tranlated from James Hays's code for Computer Vision Fall 2019\n",
        "\n",
        "# All of your code will be in \"Step 1\" and \"Step 2\", although you can\n",
        "# modify other parameters in the starter code.\n",
        "\n",
        "## Step 0: Set up parameters, category list, and image paths.\n",
        "\n",
        "#For this Assignment, you will need to report performance for three\n",
        "#combinations of features / classifiers. It is suggested you code them in\n",
        "#this order, as well:\n",
        "# 1) Tiny image features and nearest neighbor classifier\n",
        "# 2) Bag of sift features and nearest neighbor classifier\n",
        "# 3) Bag of sift features and linear SVM classifier\n",
        "\n",
        "#The starter code is initialized to 'placeholder' just so that the starter\n",
        "#code does not crash when run unmodified and you can get a preview of how\n",
        "#results are presented.\n",
        "\n",
        "# FEATURE = 'tiny image'\n",
        "FEATURE = 'bag of sift'\n",
        "#FEATURE = 'placeholder'\n",
        "\n",
        "## Step 1: Represent each image with the appropriate feature\n",
        "# Each function to construct features should return an N x d matrix, where\n",
        "# N is the number of paths passed to the function and d is the \n",
        "# dimensionality of each image representation. See the starter code for\n",
        "# each function for more details.\n",
        "\n",
        "print(\"Using\",FEATURE, \"representation for images\\n\")\n",
        "\n",
        "\n",
        "if(FEATURE == 'bag of sift'):\n",
        "    # Code build_vocabulary function 1st\n",
        "    if(os.path.isfile('/content/vocab.pkl') == False):\n",
        "        print('No existing visual word vocabulary found. Computing one from training images\\n')\n",
        "        vocab_size = 50 #Larger values will work better (to a point) but be slower to compute\n",
        "        vocab = build_vocabulary(train_image_paths, vocab_size)\n",
        "     # Code get_bags_of_sifts function\n",
        "    train_image_feats = get_bags_of_sifts(train_image_paths)\n",
        "    test_image_feats  = get_bags_of_sifts(test_image_paths)\n",
        "        \n",
        "elif(FEATURE == 'placeholder'):\n",
        "    train_image_feats = []\n",
        "    test_image_feats = []\n",
        "        \n",
        "else:\n",
        "    print('Unknown feature type')\n",
        "\n",
        "\n",
        "# You should avoid recomputing the features while debugging the classifiers\n",
        "# so you need to 'save' and 'load' the features using pickle library\n",
        "\n"
      ]
    },
    {
      "cell_type": "code",
      "source": [
        "train_image_feats.shape, test_image_feats.shape"
      ],
      "metadata": {
        "colab": {
          "base_uri": "https://localhost:8080/"
        },
        "id": "WzASJV0CTBJj",
        "outputId": "d5040847-0203-4838-a1a2-1db9c8599e34"
      },
      "execution_count": 219,
      "outputs": [
        {
          "output_type": "execute_result",
          "data": {
            "text/plain": [
              "((1500, 200), (705, 200))"
            ]
          },
          "metadata": {},
          "execution_count": 219
        }
      ]
    },
    {
      "cell_type": "code",
      "source": [
        "#the new built features\n",
        "save(train_image_feats, 'train_features200.pkl')\n",
        "save(test_image_feats, 'test_features200.pkl')"
      ],
      "metadata": {
        "id": "xS30ZXMqwCoF"
      },
      "execution_count": 220,
      "outputs": []
    },
    {
      "cell_type": "code",
      "source": [
        "#reload features\n",
        "train_image_feats = load('train_features200.pkl')\n",
        "test_image_feats = load('test_features200.pkl')"
      ],
      "metadata": {
        "id": "6TjteLOkNgbi",
        "colab": {
          "base_uri": "https://localhost:8080/"
        },
        "outputId": "a081d812-1a0d-4e87-a353-9d169aa37cb0"
      },
      "execution_count": 12,
      "outputs": [
        {
          "output_type": "stream",
          "name": "stdout",
          "text": [
            "size of vocab:  1500\n",
            "size of vocab:  705\n"
          ]
        }
      ]
    },
    {
      "cell_type": "code",
      "execution_count": 37,
      "metadata": {
        "id": "XuPD0YMggT1G"
      },
      "outputs": [],
      "source": [
        "## Step 2: Classify each test image by training and using the appropriate classifier\n",
        "#  to classify test features should return an N x 1 cell array,\n",
        "# where N is the number of test cases and each entry is a string indicating\n",
        "# the predicted category for each test image. Each entry in\n",
        "# 'predicted_categories' must be one of the 15 strings in 'categories',\n",
        "# 'train_labels', and 'test_labels'. See the starter code for each function\n",
        "# for more details.\n",
        "\n",
        "\n",
        "def N_Neigbhour():\n",
        "  print('Using nearest neighbor classifier to predict test set categories\\n')\n",
        "  predicted_categories = nearest_neighbor_classify(train_image_feats, train_labels, test_image_feats)\n",
        "  return predicted_categories\n",
        "    \n",
        "def Lin_SVM():\n",
        "  print('Using support vector machine classifier to predict test set categories\\n')\n",
        "  predicted_categories = svm_classify(train_image_feats, train_labels, test_image_feats)\n",
        "  return predicted_categories\n",
        "\n",
        "def placeholder():\n",
        "  print('Using placeholder to predict test set categories\\n')\n",
        "  predicted_categories = np.random.permutation(test_labels)\n",
        "  return predicted_categories\n"
      ]
    },
    {
      "cell_type": "code",
      "source": [
        "## Step 3: Build a confusion matrix and score the recognition system\n",
        "# You do not need to code anything in this section. \n",
        "\n",
        "# If we wanted to evaluate our recognition method properly we would train\n",
        "# and test on many random splits of the data. You are not required to do so\n",
        "# for this project.\n",
        "\n",
        "placeholder_preds = placeholder()\n",
        "\n",
        "# This function will plot confusion matrix and accuracy of your model\n",
        "display_results(np.copy(test_labels), categories, placeholder_preds,'Placeholder_matrix.jpg')\n",
        "\n",
        "# Interpreting your performance with 100 training examples per category:\n",
        "#  accuracy  =   0 -> Your code is broken (probably not the classifier's\n",
        "#                     fault! A classifier would have to be amazing to\n",
        "#                     perform this badly).\n",
        "#  accuracy ~= .07 -> Your performance is chance. Something is broken or\n",
        "#                     you ran the starter code unchanged.\n",
        "#  accuracy ~= .50 -> Rough performance with bag of SIFT and nearest\n",
        "#                     neighbor classifier. Can reach .60 with K-NN and\n",
        "#                     different distance metrics.\n",
        "#  accuracy ~= .60 -> You've gotten things roughly correct with bag of\n",
        "#                     SIFT and a linear SVM classifier.\n",
        "#  accuracy >= .70 -> You've also tuned your parameters well. E.g. number\n",
        "#                     of clusters, SVM regularization, number of patches\n",
        "#                     sampled when building vocabulary, size and step for\n",
        "#                     dense SIFT features.\n",
        "#  accuracy >= .80 -> You've added in spatial information somehow or you've\n",
        "#                     added additional, complementary image features. This\n",
        "#                     represents state of the art in Lazebnik et al 2006.\n",
        "#  accuracy >= .85 -> You've done extremely well. This is the state of the\n",
        "#                     art in the 2010 SUN database paper from fusing many \n",
        "#                     features. Don't trust this number unless you actually\n",
        "#                     measure many random splits.\n",
        "#  accuracy >= .90 -> You used modern deep features trained on much larger\n",
        "#                     image databases.\n",
        "#  accuracy >= .96 -> You can beat a human at this task. This isn't a\n",
        "#                     realistic number. Some accuracy calculation is broken\n",
        "#                     or your classifier is cheating and seeing the test\n",
        "#                     labels.\n"
      ],
      "metadata": {
        "colab": {
          "base_uri": "https://localhost:8080/",
          "height": 800
        },
        "id": "tkD57fnEgDZ3",
        "outputId": "eab2995c-004d-4ad6-c94f-31c1f63c0dc3"
      },
      "execution_count": 14,
      "outputs": [
        {
          "output_type": "stream",
          "name": "stdout",
          "text": [
            "Using placeholder to predict test set categories\n",
            "\n",
            "        Category   TP   FP   TN   FN\n",
            "0        Kitchen    0    0  705    0\n",
            "1          Store    0    0  705    0\n",
            "2        Bedroom   22   94  495   94\n",
            "3     LivingRoom    0    0  705    0\n",
            "4         Office    0    0  705    0\n",
            "5     Industrial    0    0  705    0\n",
            "6         Suburb    0    0  705    0\n",
            "7     InsideCity    0    0  705    0\n",
            "8   TallBuilding    0    0  705    0\n",
            "9         Street    0    0  705    0\n",
            "10       Highway   18   83  521   83\n",
            "11   OpenCountry    0    0  705    0\n",
            "12         Coast  101  159  286  159\n",
            "13      Mountain    0    0  705    0\n",
            "14        Forest   82  146  331  146 \n",
            "\n",
            "\n",
            "Confusion matrix, without normalization\n",
            "Accuracy:  0.31631205673758866\n"
          ]
        },
        {
          "output_type": "display_data",
          "data": {
            "image/png": "[encoded data removed]",
            "text/plain": [
              "<Figure size 432x432 with 2 Axes>"
            ]
          },
          "metadata": {
            "needs_background": "light"
          }
        }
      ]
    },
    {
      "cell_type": "code",
      "execution_count": 23,
      "metadata": {
        "id": "VzPd8oQogT1H",
        "colab": {
          "base_uri": "https://localhost:8080/",
          "height": 799
        },
        "outputId": "470bcb92-e381-47a8-d0d6-c644655af29a"
      },
      "outputs": [
        {
          "output_type": "stream",
          "name": "stdout",
          "text": [
            "Using nearest neighbor classifier to predict test set categories\n",
            "\n",
            "        Category   TP  FP   TN   FN\n",
            "0        Kitchen    0  33  672    0\n",
            "1          Store    0  17  688    0\n",
            "2        Bedroom   15   2  587  101\n",
            "3     LivingRoom    0   9  696    0\n",
            "4         Office    0   6  699    0\n",
            "5     Industrial    0  25  680    0\n",
            "6         Suburb    0  62  643    0\n",
            "7     InsideCity    0   6  699    0\n",
            "8   TallBuilding    0  59  646    0\n",
            "9         Street    0   4  701    0\n",
            "10       Highway   22  16  588   79\n",
            "11   OpenCountry    0  32  673    0\n",
            "12         Coast  153  34  411  107\n",
            "13      Mountain    0  13  692    0\n",
            "14        Forest  190   7  470   38 \n",
            "\n",
            "\n",
            "Confusion matrix, without normalization\n",
            "Accuracy:  0.5390070921985816\n"
          ]
        },
        {
          "output_type": "display_data",
          "data": {
            "image/png": "[encoded data removed]",
            "text/plain": [
              "<Figure size 432x432 with 2 Axes>"
            ]
          },
          "metadata": {
            "needs_background": "light"
          }
        }
      ],
      "source": [
        "## Step 3: Build a confusion matrix and score the recognition system\n",
        "# You do not need to code anything in this section. \n",
        "\n",
        "# If we wanted to evaluate our recognition method properly we would train\n",
        "# and test on many random splits of the data. You are not required to do so\n",
        "# for this project.\n",
        "\n",
        "nn_preds = N_Neigbhour()\n",
        "\n",
        "# This function will plot confusion matrix and accuracy of your model\n",
        "display_results(np.copy(test_labels), categories, np.copy(nn_preds),'NN_Matrix_vocab200.jpg')\n",
        "\n",
        "# Interpreting your performance with 100 training examples per category:\n",
        "#  accuracy  =   0 -> Your code is broken (probably not the classifier's\n",
        "#                     fault! A classifier would have to be amazing to\n",
        "#                     perform this badly).\n",
        "#  accuracy ~= .07 -> Your performance is chance. Something is broken or\n",
        "#                     you ran the starter code unchanged.\n",
        "#  accuracy ~= .50 -> Rough performance with bag of SIFT and nearest\n",
        "#                     neighbor classifier. Can reach .60 with K-NN and\n",
        "#                     different distance metrics.\n",
        "#  accuracy ~= .60 -> You've gotten things roughly correct with bag of\n",
        "#                     SIFT and a linear SVM classifier.\n",
        "#  accuracy >= .70 -> You've also tuned your parameters well. E.g. number\n",
        "#                     of clusters, SVM regularization, number of patches\n",
        "#                     sampled when building vocabulary, size and step for\n",
        "#                     dense SIFT features.\n",
        "#  accuracy >= .80 -> You've added in spatial information somehow or you've\n",
        "#                     added additional, complementary image features. This\n",
        "#                     represents state of the art in Lazebnik et al 2006.\n",
        "#  accuracy >= .85 -> You've done extremely well. This is the state of the\n",
        "#                     art in the 2010 SUN database paper from fusing many \n",
        "#                     features. Don't trust this number unless you actually\n",
        "#                     measure many random splits.\n",
        "#  accuracy >= .90 -> You used modern deep features trained on much larger\n",
        "#                     image databases.\n",
        "#  accuracy >= .96 -> You can beat a human at this task. This isn't a\n",
        "#                     realistic number. Some accuracy calculation is broken\n",
        "#                     or your classifier is cheating and seeing the test\n",
        "#                     labels.\n"
      ]
    },
    {
      "cell_type": "code",
      "source": [
        "visualizeCats(np.copy(test_labels), nn_preds, test_image_paths)"
      ],
      "metadata": {
        "colab": {
          "base_uri": "https://localhost:8080/"
        },
        "id": "lMrbd__Q-K1w",
        "outputId": "b9d2b8b2-a87a-4b13-83ae-fa200a0db1ef"
      },
      "execution_count": 27,
      "outputs": [
        {
          "output_type": "stream",
          "name": "stdout",
          "text": [
            "True positive dictionary:  {'Bedroom': '/content/drive/MyDrive/assignment3.zip (Unzipped Files)/data/test/Bedroom/image_0014.jpg', 'Coast': '/content/drive/MyDrive/assignment3.zip (Unzipped Files)/data/test/Coast/image_0001.jpg', 'Highway': '/content/drive/MyDrive/assignment3.zip (Unzipped Files)/data/test/Highway/image_0005.jpg', 'Forest': '/content/drive/MyDrive/assignment3.zip (Unzipped Files)/data/test/Forest/image_0001.jpg'} \n",
            " False Positive dictionary:  {'Suburb': ['/content/drive/MyDrive/assignment3.zip (Unzipped Files)/data/test/Bedroom/image_0004.jpg', 'Bedroom'], 'Office': ['/content/drive/MyDrive/assignment3.zip (Unzipped Files)/data/test/Bedroom/image_0007.jpg', 'Bedroom'], 'Street': ['/content/drive/MyDrive/assignment3.zip (Unzipped Files)/data/test/Bedroom/image_0008.jpg', 'Bedroom'], 'Industrial': ['/content/drive/MyDrive/assignment3.zip (Unzipped Files)/data/test/Bedroom/image_0011.jpg', 'Bedroom'], 'Kitchen': ['/content/drive/MyDrive/assignment3.zip (Unzipped Files)/data/test/Bedroom/image_0013.jpg', 'Bedroom'], 'Store': ['/content/drive/MyDrive/assignment3.zip (Unzipped Files)/data/test/Bedroom/image_0024.jpg', 'Bedroom'], 'TallBuilding': ['/content/drive/MyDrive/assignment3.zip (Unzipped Files)/data/test/Bedroom/image_0029.jpg', 'Bedroom'], 'Coast': ['/content/drive/MyDrive/assignment3.zip (Unzipped Files)/data/test/Bedroom/image_0042.jpg', 'Bedroom'], 'InsideCity': ['/content/drive/MyDrive/assignment3.zip (Unzipped Files)/data/test/Bedroom/image_0049.jpg', 'Bedroom'], 'LivingRoom': ['/content/drive/MyDrive/assignment3.zip (Unzipped Files)/data/test/Bedroom/image_0069.jpg', 'Bedroom'], 'Highway': ['/content/drive/MyDrive/assignment3.zip (Unzipped Files)/data/test/Bedroom/image_0160.jpg', 'Bedroom'], 'Forest': ['/content/drive/MyDrive/assignment3.zip (Unzipped Files)/data/test/Bedroom/image_0205.jpg', 'Bedroom'], 'OpenCountry': ['/content/drive/MyDrive/assignment3.zip (Unzipped Files)/data/test/Coast/image_0029.jpg', 'Coast'], 'Mountain': ['/content/drive/MyDrive/assignment3.zip (Unzipped Files)/data/test/Coast/image_0035.jpg', 'Coast'], 'Bedroom': ['/content/drive/MyDrive/assignment3.zip (Unzipped Files)/data/test/Coast/image_0107.jpg', 'Coast']} \n",
            " False Negative dictionary:  {'Bedroom': ['/content/drive/MyDrive/assignment3.zip (Unzipped Files)/data/test/Bedroom/image_0003.jpg', 'Store'], 'Coast': ['/content/drive/MyDrive/assignment3.zip (Unzipped Files)/data/test/Coast/image_0004.jpg', 'TallBuilding'], 'Highway': ['/content/drive/MyDrive/assignment3.zip (Unzipped Files)/data/test/Highway/image_0001.jpg', 'Coast'], 'Forest': ['/content/drive/MyDrive/assignment3.zip (Unzipped Files)/data/test/Forest/image_0002.jpg', 'Suburb']}\n"
          ]
        }
      ]
    },
    {
      "cell_type": "code",
      "source": [
        "set(test_labels)"
      ],
      "metadata": {
        "colab": {
          "base_uri": "https://localhost:8080/"
        },
        "id": "vrhKyCHaBZdm",
        "outputId": "e7e48e1b-8982-44c6-9d6f-dd645be30d7a"
      },
      "execution_count": 31,
      "outputs": [
        {
          "output_type": "execute_result",
          "data": {
            "text/plain": [
              "{'Bedroom', 'Coast', 'Forest', 'Highway'}"
            ]
          },
          "metadata": {},
          "execution_count": 31
        }
      ]
    },
    {
      "cell_type": "code",
      "source": [
        "# Step 3: Build a confusion matrix and score the recognition system\n",
        "# You do not need to code anything in this section. \n",
        "\n",
        "# If we wanted to evaluate our recognition method properly we would train\n",
        "# and test on many random splits of the data. You are not required to do so\n",
        "# for this project.\n",
        "\n",
        "svm_preds = Lin_SVM()\n",
        "# This function will plot confusion matrix and accuracy of your model\n",
        "display_results(np.copy(test_labels), categories, np.copy(svm_preds),'SVM_Matrix_vocab50.jpg')\n",
        "\n",
        "# Interpreting your performance with 100 training examples per category:\n",
        "#  accuracy  =   0 -> Your code is broken (probably not the classifier's\n",
        "#                     fault! A classifier would have to be amazing to\n",
        "#                     perform this badly).\n",
        "#  accuracy ~= .07 -> Your performance is chance. Something is broken or\n",
        "#                     you ran the starter code unchanged.\n",
        "#  accuracy ~= .50 -> Rough performance with bag of SIFT and nearest\n",
        "#                     neighbor classifier. Can reach .60 with K-NN and\n",
        "#                     different distance metrics.\n",
        "#  accuracy ~= .60 -> You've gotten things roughly correct with bag of\n",
        "#                     SIFT and a linear SVM classifier.\n",
        "#  accuracy >= .70 -> You've also tuned your parameters well. E.g. number\n",
        "#                     of clusters, SVM regularization, number of patches\n",
        "#                     sampled when building vocabulary, size and step for\n",
        "#                     dense SIFT features.\n",
        "#  accuracy >= .80 -> You've added in spatial information somehow or you've\n",
        "#                     added additional, complementary image features. This\n",
        "#                     represents state of the art in Lazebnik et al 2006.\n",
        "#  accuracy >= .85 -> You've done extremely well. This is the state of the\n",
        "#                     art in the 2010 SUN database paper from fusing many \n",
        "#                     features. Don't trust this number unless you actually\n",
        "#                     measure many random splits.\n",
        "#  accuracy >= .90 -> You used modern deep features trained on much larger\n",
        "#                     image databases.\n",
        "#  accuracy >= .96 -> You can beat a human at this task. This isn't a\n",
        "#                     realistic number. Some accuracy calculation is broken\n",
        "#                     or your classifier is cheating and seeing the test\n",
        "#                     labels."
      ],
      "metadata": {
        "colab": {
          "base_uri": "https://localhost:8080/",
          "height": 799
        },
        "id": "hoSGDzZKf4R-",
        "outputId": "b01b569c-ec27-445c-d472-61e015a6a0bd"
      },
      "execution_count": 46,
      "outputs": [
        {
          "output_type": "stream",
          "name": "stdout",
          "text": [
            "Using support vector machine classifier to predict test set categories\n",
            "\n",
            "        Category   TP  FP   TN   FN\n",
            "0        Kitchen    0  19  686    0\n",
            "1          Store    0  27  678    0\n",
            "2        Bedroom   33   4  585   83\n",
            "3     LivingRoom    0  18  687    0\n",
            "4         Office    0  15  690    0\n",
            "5     Industrial    0  22  683    0\n",
            "6         Suburb    0  25  680    0\n",
            "7     InsideCity    0  13  692    0\n",
            "8   TallBuilding    0  28  677    0\n",
            "9         Street    0  19  686    0\n",
            "10       Highway   44  33  571   57\n",
            "11   OpenCountry    0  64  641    0\n",
            "12         Coast  128  20  425  132\n",
            "13      Mountain    0  30  675    0\n",
            "14        Forest  151  12  465   77 \n",
            "\n",
            "\n",
            "Confusion matrix, without normalization\n",
            "Accuracy:  0.5049645390070922\n"
          ]
        },
        {
          "output_type": "display_data",
          "data": {
            "image/png": "[encoded data removed]",
            "text/plain": [
              "<Figure size 432x432 with 2 Axes>"
            ]
          },
          "metadata": {
            "needs_background": "light"
          }
        }
      ]
    },
    {
      "cell_type": "code",
      "source": [
        "visualizeCats(np.copy(test_labels), svm_preds, test_image_paths)"
      ],
      "metadata": {
        "colab": {
          "base_uri": "https://localhost:8080/"
        },
        "id": "bPkHmdsQKrmg",
        "outputId": "da74514b-9b28-42c5-89f7-a674a039224c"
      },
      "execution_count": 49,
      "outputs": [
        {
          "output_type": "stream",
          "name": "stdout",
          "text": [
            "True positive dictionary:  {'Bedroom': '/content/drive/MyDrive/assignment3.zip (Unzipped Files)/data/test/Bedroom/image_0215.jpg', 'Coast': '/content/drive/MyDrive/assignment3.zip (Unzipped Files)/data/test/Coast/image_0360.jpg', 'Highway': '/content/drive/MyDrive/assignment3.zip (Unzipped Files)/data/test/Highway/image_0164.jpg', 'Forest': '/content/drive/MyDrive/assignment3.zip (Unzipped Files)/data/test/Forest/image_0328.jpg'} \n",
            " False Positive dictionary:  {'Mountain': ['/content/drive/MyDrive/assignment3.zip (Unzipped Files)/data/test/Bedroom/image_0004.jpg', 'Bedroom'], 'InsideCity': ['/content/drive/MyDrive/assignment3.zip (Unzipped Files)/data/test/Bedroom/image_0006.jpg', 'Bedroom'], 'Office': ['/content/drive/MyDrive/assignment3.zip (Unzipped Files)/data/test/Bedroom/image_0007.jpg', 'Bedroom'], 'Store': ['/content/drive/MyDrive/assignment3.zip (Unzipped Files)/data/test/Bedroom/image_0008.jpg', 'Bedroom'], 'LivingRoom': ['/content/drive/MyDrive/assignment3.zip (Unzipped Files)/data/test/Bedroom/image_0014.jpg', 'Bedroom'], 'Industrial': ['/content/drive/MyDrive/assignment3.zip (Unzipped Files)/data/test/Bedroom/image_0016.jpg', 'Bedroom'], 'Kitchen': ['/content/drive/MyDrive/assignment3.zip (Unzipped Files)/data/test/Bedroom/image_0024.jpg', 'Bedroom'], 'TallBuilding': ['/content/drive/MyDrive/assignment3.zip (Unzipped Files)/data/test/Bedroom/image_0029.jpg', 'Bedroom'], 'Suburb': ['/content/drive/MyDrive/assignment3.zip (Unzipped Files)/data/test/Bedroom/image_0040.jpg', 'Bedroom'], 'Coast': ['/content/drive/MyDrive/assignment3.zip (Unzipped Files)/data/test/Bedroom/image_0073.jpg', 'Bedroom'], 'Street': ['/content/drive/MyDrive/assignment3.zip (Unzipped Files)/data/test/Bedroom/image_0134.jpg', 'Bedroom'], 'Highway': ['/content/drive/MyDrive/assignment3.zip (Unzipped Files)/data/test/Bedroom/image_0158.jpg', 'Bedroom'], 'OpenCountry': ['/content/drive/MyDrive/assignment3.zip (Unzipped Files)/data/test/Bedroom/image_0195.jpg', 'Bedroom'], 'Forest': ['/content/drive/MyDrive/assignment3.zip (Unzipped Files)/data/test/Bedroom/image_0205.jpg', 'Bedroom'], 'Bedroom': ['/content/drive/MyDrive/assignment3.zip (Unzipped Files)/data/test/Coast/image_0054.jpg', 'Coast']} \n",
            "False Negative dictionary:  {'Bedroom': ['/content/drive/MyDrive/assignment3.zip (Unzipped Files)/data/test/Bedroom/image_0003.jpg', 'LivingRoom'], 'Coast': ['/content/drive/MyDrive/assignment3.zip (Unzipped Files)/data/test/Coast/image_0002.jpg', 'Forest'], 'Highway': ['/content/drive/MyDrive/assignment3.zip (Unzipped Files)/data/test/Highway/image_0002.jpg', 'Coast'], 'Forest': ['/content/drive/MyDrive/assignment3.zip (Unzipped Files)/data/test/Forest/image_0001.jpg', 'Mountain']}\n"
          ]
        }
      ]
    }
  ],
  "metadata": {
    "kernelspec": {
      "display_name": "Python 3 (ipykernel)",
      "language": "python",
      "name": "python3"
    },
    "language_info": {
      "codemirror_mode": {
        "name": "ipython",
        "version": 3
      },
      "file_extension": ".py",
      "mimetype": "text/x-python",
      "name": "python",
      "nbconvert_exporter": "python",
      "pygments_lexer": "ipython3",
      "version": "3.8.10"
    },
    "colab": {
      "name": "Assignment 3.ipynb",
      "provenance": [],
      "collapsed_sections": []
    }
  },
  "nbformat": 4,
  "nbformat_minor": 0
}